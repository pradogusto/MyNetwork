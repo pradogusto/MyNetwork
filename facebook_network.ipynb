{
 "cells": [
  {
   "cell_type": "code",
   "execution_count": 16,
   "metadata": {
    "collapsed": false
   },
   "outputs": [],
   "source": [
    "from selenium import webdriver\n",
    "import networkx as nx\n",
    "import matplotlib.pyplot as plt\n",
    "import pickle\n",
    "import plotly.plotly as py\n",
    "from plotly.graph_objs import *\n",
    "import plotly as plotly\n",
    "plotly.tools.set_credentials_file(username='pradogusto', api_key='IUYcFdbUfs4Ov0q0BYMq')\n",
    "import pandas as pd\n",
    "import numpy as np\n",
    "from scrap_function import *\n",
    "import community\n",
    "%matplotlib inline \n",
    "import time\n",
    "from IPython.display import YouTubeVideo\n",
    "from datetime import timedelta\n",
    "from IPython.display import Image"
   ]
  },
  {
   "cell_type": "markdown",
   "metadata": {},
   "source": [
    "# Scrapping facebook with Selenium"
   ]
  },
  {
   "cell_type": "markdown",
   "metadata": {},
   "source": [
    "In the following code, you will find how to :\n",
    "* Open Chrome browser\n",
    "* Connect to your facebook account\n",
    "* Go to people's profile and scrap data"
   ]
  },
  {
   "cell_type": "code",
   "execution_count": 2,
   "metadata": {
    "collapsed": true
   },
   "outputs": [],
   "source": [
    "#### Open chrome \n",
    "path_to_chromedriver = \"/Users/Gusto/Desktop/chromedriver\"\n",
    "browser = webdriver.Chrome(executable_path = path_to_chromedriver)"
   ]
  },
  {
   "cell_type": "code",
   "execution_count": 3,
   "metadata": {
    "collapsed": false
   },
   "outputs": [],
   "source": [
    "#### Go to facebook and connection\n",
    "url = 'https://fr-fr.facebook.com/'\n",
    "browser.get(url)\n",
    "browser.find_element_by_id('email').send_keys('leo.prado.cardenas@gmail.com')\n",
    "# mdp = ....\n",
    "browser.find_element_by_id('pass').send_keys(mdp)\n",
    "browser.find_element_by_xpath('//*[@id=\"u_0_p\"]').click()\n",
    "browser.maximize_window()"
   ]
  },
  {
   "cell_type": "code",
   "execution_count": null,
   "metadata": {
    "collapsed": false
   },
   "outputs": [],
   "source": [
    "#### Go to my profile and go to the friends list page\n",
    "pause=1\n",
    "browser.find_element_by_xpath('//*[@data-testid=\"blue_bar_profile_link\"]').click()\n",
    "voir_amis(pause, browser)\n",
    "a,b = go_profile(pause, browser)"
   ]
  },
  {
   "cell_type": "markdown",
   "metadata": {},
   "source": [
    "Here goes a little demo"
   ]
  },
  {
   "cell_type": "code",
   "execution_count": 176,
   "metadata": {
    "collapsed": false,
    "scrolled": true
   },
   "outputs": [
    {
     "data": {
      "text/html": [
       "\n",
       "        <iframe\n",
       "            width=\"400\"\n",
       "            height=\"300\"\n",
       "            src=\"https://www.youtube.com/embed/KurcdkvC9U4?theme=light&start=30&color=red&end=55&autoplay=0\"\n",
       "            frameborder=\"0\"\n",
       "            allowfullscreen\n",
       "        ></iframe>\n",
       "        "
      ],
      "text/plain": [
       "<IPython.lib.display.YouTubeVideo at 0x122ca9588>"
      ]
     },
     "execution_count": 176,
     "metadata": {},
     "output_type": "execute_result"
    }
   ],
   "source": [
    "start=int(timedelta(hours=0, minutes=0, seconds=30).total_seconds())\n",
    "YouTubeVideo(\"KurcdkvC9U4\", start=start, end=end,autoplay=0, theme=\"light\", color=\"red\")"
   ]
  },
  {
   "cell_type": "code",
   "execution_count": 17,
   "metadata": {
    "collapsed": false
   },
   "outputs": [],
   "source": [
    "# Retrieve the results that are saved in a file\n",
    "with open('FINAL', 'rb') as f:\n",
    "    a = pickle.load(f)\n",
    "    \n",
    "with open('myfriends', 'rb') as f:\n",
    "    b = pickle.load(f)"
   ]
  },
  {
   "cell_type": "markdown",
   "metadata": {},
   "source": [
    "# Friends"
   ]
  },
  {
   "cell_type": "code",
   "execution_count": 18,
   "metadata": {
    "collapsed": false
   },
   "outputs": [],
   "source": [
    "G_friends=nx.Graph()\n",
    "\n",
    "# Adding nodes\n",
    "G_friends.add_node('Augu Stein')\n",
    "for i in b:\n",
    "    G_friends.add_node(i)\n",
    "for i in b:\n",
    "    G_friends.add_edge('Augu Stein',i)\n",
    "    \n",
    "# Adding relations\n",
    "for i in range(len(a)):\n",
    "    nb_connect = 0\n",
    "    for name in a[i]:\n",
    "        if name in b:\n",
    "            G_friends.add_edge(b[i],name)\n",
    "            nb_connect = nb_connect+1\n",
    "    if(nb_connect == 0):\n",
    "        G_friends.remove_edge('Augu Stein',b[i])\n",
    "        G_friends.remove_node(b[i])"
   ]
  },
  {
   "cell_type": "code",
   "execution_count": 19,
   "metadata": {
    "collapsed": false
   },
   "outputs": [
    {
     "name": "stdout",
     "output_type": "stream",
     "text": [
      "Total number of person in the network: 157 \n",
      " \n",
      " Total relations: 1978\n"
     ]
    }
   ],
   "source": [
    "print('Total number of person in the network:',G_friends.number_of_nodes(),'\\n \\n','Total relations:', G_friends.number_of_edges())"
   ]
  },
  {
   "cell_type": "markdown",
   "metadata": {},
   "source": [
    "## Ploting  the graph"
   ]
  },
  {
   "cell_type": "code",
   "execution_count": 20,
   "metadata": {
    "collapsed": true
   },
   "outputs": [],
   "source": [
    "pos=nx.fruchterman_reingold_layout(G_friends)"
   ]
  },
  {
   "cell_type": "code",
   "execution_count": 21,
   "metadata": {
    "collapsed": false
   },
   "outputs": [],
   "source": [
    "# Edge trace\n",
    "edge_trace_little = Scatter(\n",
    "    x=[], \n",
    "    y=[], \n",
    "    line=Line(width=0.4,color='#888'),\n",
    "    \n",
    "    hoverinfo='none',\n",
    "    showlegend=False, \n",
    "    \n",
    "    mode='lines')\n",
    "\n",
    "for edge in G_friends.edges():\n",
    "    x0, y0 = pos[edge[0]]\n",
    "    x1, y1 = pos[edge[1]]\n",
    "    edge_trace_little['x'] += [x0, x1, None]\n",
    "    edge_trace_little['y'] += [y0, y1, None]"
   ]
  },
  {
   "cell_type": "markdown",
   "metadata": {},
   "source": [
    "* With number of connections"
   ]
  },
  {
   "cell_type": "code",
   "execution_count": 22,
   "metadata": {
    "collapsed": true
   },
   "outputs": [],
   "source": [
    "# Node trace\n",
    "\n",
    "node_trace_connect = Scatter(\n",
    "    x=[], \n",
    "    y=[], \n",
    "    text=[],\n",
    "    mode='markers', \n",
    "    hoverinfo='text',\n",
    "    marker=Marker(\n",
    "        showscale=True,\n",
    "        colorscale='YIGnBu',\n",
    "        reversescale=True,\n",
    "        color=[], \n",
    "        size=10,         \n",
    "        colorbar=dict(\n",
    "            thickness=15,\n",
    "            title='User Connections',\n",
    "            xanchor='left',\n",
    "            titleside='right'\n",
    "        ),\n",
    "        line=dict(width=2))\n",
    "                            )\n",
    "for node in G_friends.nodes():\n",
    "    x, y = pos[node]\n",
    "    node_trace_connect['x'].append(x)\n",
    "    node_trace_connect['y'].append(y)"
   ]
  },
  {
   "cell_type": "code",
   "execution_count": 23,
   "metadata": {
    "collapsed": true
   },
   "outputs": [],
   "source": [
    "for node, adjacencies in enumerate(G_friends.adjacency_list()):\n",
    "    node_trace_connect['marker']['color'].append(len(adjacencies))\n",
    "    nom = G_friends.nodes()[node].split(' ')[0][0] + '. '+G_friends.nodes()[node].split(' ')[-1]\n",
    "    node_info = nom +': ' + str(len(adjacencies))+ ' connection(s)'\n",
    "    node_trace_connect['text'].append(node_info)"
   ]
  },
  {
   "cell_type": "code",
   "execution_count": 24,
   "metadata": {
    "collapsed": false
   },
   "outputs": [
    {
     "name": "stdout",
     "output_type": "stream",
     "text": [
      "High five! You successfuly sent some data to your account on plotly. View your plot in your browser at https://plot.ly/~pradogusto/0 or inside your plot.ly account where it is named 'network FB connections'\n"
     ]
    },
    {
     "data": {
      "text/html": [
       "<iframe id=\"igraph\" scrolling=\"no\" style=\"border:none;\" seamless=\"seamless\" src=\"https://plot.ly/~pradogusto/0.embed\" height=\"525px\" width=\"100%\"></iframe>"
      ],
      "text/plain": [
       "<plotly.tools.PlotlyDisplay object>"
      ]
     },
     "execution_count": 24,
     "metadata": {},
     "output_type": "execute_result"
    }
   ],
   "source": [
    "fig = Figure(data=Data([edge_trace_little, node_trace_connect]),\n",
    "             layout=Layout(\n",
    "                title='<br> Facebook Network',\n",
    "        titlefont=dict(\n",
    "            family='fantasy',\n",
    "            size=20,\n",
    "            color='#0a52a3'\n",
    "        ),\n",
    "                showlegend=False, \n",
    "                hovermode='closest',\n",
    "                margin=dict(b=20,l=5,r=5,t=40),\n",
    "        \n",
    "                xaxis=XAxis(showgrid=False, zeroline=False, showticklabels=False),\n",
    "                yaxis=YAxis(showgrid=False, zeroline=False, showticklabels=False)))\n",
    "\n",
    "py.iplot(fig, filename='network FB connections')"
   ]
  },
  {
   "cell_type": "markdown",
   "metadata": {},
   "source": [
    "* With communities\n",
    "\n",
    "We use the louvain method algorithm to detect communities, that is already implemented by the library NetworkX. The method is an iterative method that optimizes modularity at each steps. (Modularity is defined here: https://en.wikipedia.org/wiki/Modularity_%28networks%29)"
   ]
  },
  {
   "cell_type": "code",
   "execution_count": 36,
   "metadata": {
    "collapsed": false
   },
   "outputs": [
    {
     "name": "stdout",
     "output_type": "stream",
     "text": [
      "The algorithm find this partition :  {0, 1, 2, 3}\n"
     ]
    }
   ],
   "source": [
    "# Compute the best partition with louvain method\n",
    "partition = community.best_partition(G_friends)\n",
    "print('The algorithm find this partition : ',set(partition.values()))"
   ]
  },
  {
   "cell_type": "code",
   "execution_count": 37,
   "metadata": {
    "collapsed": false
   },
   "outputs": [],
   "source": [
    "node_trace=[]\n",
    "names = [ \"L'X\",'Stan','EPFL', 'Famille']\n",
    "color_list = [ 'rgb(44,117,255)', '#69CD45', '#000005', 'FFBAD2']\n",
    "for i in range(len(set(partition.values()))):\n",
    "    col1 = str((i+1)*70)\n",
    "    col2= str(255-(i+1)*70)\n",
    "    node_trace.append(Scatter(\n",
    "    x=[], \n",
    "    y=[], \n",
    "    text=[],\n",
    "    mode='markers', \n",
    "    hoverinfo='text',\n",
    "            name = names[i],\n",
    "    marker=dict(\n",
    "        color = color_list[i],\n",
    "        opacity= 0.8,\n",
    "        size=10,\n",
    "        symbol='circle'\n",
    "    ))\n",
    "                      )"
   ]
  },
  {
   "cell_type": "code",
   "execution_count": 38,
   "metadata": {
    "collapsed": false
   },
   "outputs": [],
   "source": [
    "for node in partition:\n",
    "    x,y=pos[node]\n",
    "    com = partition[node]\n",
    "    node_trace[com]['x'].append(x)\n",
    "    node_trace[com]['y'].append(y)\n",
    "    nom = node.split(' ')[0][0] + '. '+node.split(' ')[-1]\n",
    "    node_trace[com]['text'].append(nom)"
   ]
  },
  {
   "cell_type": "code",
   "execution_count": 39,
   "metadata": {
    "collapsed": false
   },
   "outputs": [
    {
     "data": {
      "text/html": [
       "<iframe id=\"igraph\" scrolling=\"no\" style=\"border:none;\" seamless=\"seamless\" src=\"https://plot.ly/~pradogusto/2.embed\" height=\"525px\" width=\"100%\"></iframe>"
      ],
      "text/plain": [
       "<plotly.tools.PlotlyDisplay object>"
      ]
     },
     "execution_count": 39,
     "metadata": {},
     "output_type": "execute_result"
    }
   ],
   "source": [
    "fig = Figure(data=Data([edge_trace_little, node_trace[0], node_trace[1], node_trace[2], node_trace[3]]),\n",
    "             layout=Layout(\n",
    "                title='<br> Facebook Network',\n",
    "        titlefont=dict(\n",
    "            family='fantasy',\n",
    "            size=20,\n",
    "            color='#0a52a3'\n",
    "        ),\n",
    "                #showlegend=False, \n",
    "                hovermode='closest',\n",
    "                margin=dict(b=20,l=5,r=5,t=40),\n",
    "        \n",
    "                xaxis=XAxis(showgrid=False, zeroline=False, showticklabels=False),\n",
    "                yaxis=YAxis(showgrid=False, zeroline=False, showticklabels=False)))\n",
    "\n",
    "py.iplot(fig, filename='network FB')"
   ]
  },
  {
   "cell_type": "markdown",
   "metadata": {
    "collapsed": true
   },
   "source": [
    "# Friends and their friends"
   ]
  },
  {
   "cell_type": "code",
   "execution_count": 11,
   "metadata": {
    "collapsed": false
   },
   "outputs": [],
   "source": [
    "# Friends\n",
    "amis1 = b[:]\n",
    "noms_1 = [ split_name(name) for name in amis1]\n",
    "# Friends of friends\n",
    "amis2_inter=[]\n",
    "for i in range(162):\n",
    "    alors = [name for name in a[i] if name not in amis1]\n",
    "    amis2_inter.extend(alors)\n",
    "amis2 = list(set(amis2_inter))"
   ]
  },
  {
   "cell_type": "code",
   "execution_count": 15,
   "metadata": {
    "collapsed": false
   },
   "outputs": [
    {
     "name": "stdout",
     "output_type": "stream",
     "text": [
      "number of node in the graph if I consider all my friends' friends:  53789\n"
     ]
    }
   ],
   "source": [
    "print(\"number of node in the graph if I consider all my friends' friends: \",len(amis1)+len(amis2)+1)"
   ]
  },
  {
   "cell_type": "markdown",
   "metadata": {},
   "source": [
    "For each friends of friends, how many friends do we share ? Gather the results in a dataframe"
   ]
  },
  {
   "cell_type": "code",
   "execution_count": 8,
   "metadata": {
    "collapsed": false
   },
   "outputs": [],
   "source": [
    "nb=[]\n",
    "for nom in amis2:\n",
    "    nb.append(nb_common_friends(nom,a))\n",
    "ami_communs ={}\n",
    "for nom, num in zip(amis2, nb):\n",
    "    ami_communs[nom]=num"
   ]
  },
  {
   "cell_type": "code",
   "execution_count": 10,
   "metadata": {
    "collapsed": false
   },
   "outputs": [
    {
     "data": {
      "text/html": [
       "<div>\n",
       "<table border=\"1\" class=\"dataframe\">\n",
       "  <thead>\n",
       "    <tr style=\"text-align: right;\">\n",
       "      <th></th>\n",
       "      <th>Name</th>\n",
       "      <th>Nb of common friends</th>\n",
       "    </tr>\n",
       "  </thead>\n",
       "  <tbody>\n",
       "    <tr>\n",
       "      <th>0</th>\n",
       "      <td>Quentin Canivet</td>\n",
       "      <td>1</td>\n",
       "    </tr>\n",
       "    <tr>\n",
       "      <th>1</th>\n",
       "      <td>Julia Cluzel</td>\n",
       "      <td>1</td>\n",
       "    </tr>\n",
       "    <tr>\n",
       "      <th>2</th>\n",
       "      <td>Isa Line</td>\n",
       "      <td>1</td>\n",
       "    </tr>\n",
       "    <tr>\n",
       "      <th>3</th>\n",
       "      <td>Julie Seyrig</td>\n",
       "      <td>1</td>\n",
       "    </tr>\n",
       "  </tbody>\n",
       "</table>\n",
       "</div>"
      ],
      "text/plain": [
       "              Name  Nb of common friends\n",
       "0  Quentin Canivet                     1\n",
       "1     Julia Cluzel                     1\n",
       "2         Isa Line                     1\n",
       "3     Julie Seyrig                     1"
      ]
     },
     "execution_count": 10,
     "metadata": {},
     "output_type": "execute_result"
    }
   ],
   "source": [
    "df = pd.DataFrame(list(ami_communs.items()), columns = ['Name','Nb of common friends'])  \n",
    "df.head(4)"
   ]
  },
  {
   "cell_type": "markdown",
   "metadata": {},
   "source": [
    "How many friends share the person who share the most friends with me ?"
   ]
  },
  {
   "cell_type": "code",
   "execution_count": 11,
   "metadata": {
    "collapsed": false
   },
   "outputs": [
    {
     "data": {
      "text/plain": [
       "36"
      ]
     },
     "execution_count": 11,
     "metadata": {},
     "output_type": "execute_result"
    }
   ],
   "source": [
    "df['Nb of common friends'].max()"
   ]
  },
  {
   "cell_type": "markdown",
   "metadata": {},
   "source": [
    "How do you think facebook recommend you new friends ?"
   ]
  },
  {
   "cell_type": "code",
   "execution_count": 12,
   "metadata": {
    "collapsed": false
   },
   "outputs": [
    {
     "data": {
      "text/html": [
       "<div>\n",
       "<table border=\"1\" class=\"dataframe\">\n",
       "  <thead>\n",
       "    <tr style=\"text-align: right;\">\n",
       "      <th></th>\n",
       "      <th>Name</th>\n",
       "      <th>Nb of common friends</th>\n",
       "    </tr>\n",
       "  </thead>\n",
       "  <tbody>\n",
       "    <tr>\n",
       "      <th>621</th>\n",
       "      <td>Khalil Bouchareb</td>\n",
       "      <td>36</td>\n",
       "    </tr>\n",
       "    <tr>\n",
       "      <th>3172</th>\n",
       "      <td>Pierre Bruneel</td>\n",
       "      <td>33</td>\n",
       "    </tr>\n",
       "    <tr>\n",
       "      <th>6155</th>\n",
       "      <td>Violaine Tarizzo</td>\n",
       "      <td>35</td>\n",
       "    </tr>\n",
       "  </tbody>\n",
       "</table>\n",
       "</div>"
      ],
      "text/plain": [
       "                  Name  Nb of common friends\n",
       "621   Khalil Bouchareb                    36\n",
       "3172    Pierre Bruneel                    33\n",
       "6155  Violaine Tarizzo                    35"
      ]
     },
     "execution_count": 12,
     "metadata": {},
     "output_type": "execute_result"
    }
   ],
   "source": [
    "df[df['Nb of common friends']>=33].head(3)"
   ]
  },
  {
   "cell_type": "markdown",
   "metadata": {},
   "source": [
    "Among 53.000 friends of friends, 45.000 share only one friends with me, 4.600 share two friends and 1.500 share three. I remove them for the graph for the sake of beautiness. Moreover, these nodes won't help me a lot to find communitites."
   ]
  },
  {
   "cell_type": "code",
   "execution_count": 13,
   "metadata": {
    "collapsed": false,
    "scrolled": true
   },
   "outputs": [
    {
     "data": {
      "text/plain": [
       "1    45096\n",
       "2     4661\n",
       "3     1471\n",
       "Name: Nb of common friends, dtype: int64"
      ]
     },
     "execution_count": 13,
     "metadata": {},
     "output_type": "execute_result"
    }
   ],
   "source": [
    "df['Nb of common friends'].value_counts()[:3]"
   ]
  },
  {
   "cell_type": "code",
   "execution_count": 14,
   "metadata": {
    "collapsed": false
   },
   "outputs": [
    {
     "data": {
      "image/png": "[encoded data removed]",
      "text/plain": [
       "<matplotlib.figure.Figure at 0x11e647cc0>"
      ]
     },
     "metadata": {},
     "output_type": "display_data"
    }
   ],
   "source": [
    "filtered_df=df[df['Nb of common friends']>3]\n",
    "plt.hist(filtered_df['Nb of common friends'], bins= filtered_df['Nb of common friends'].max())\n",
    "plt.xlabel('Number of friends we share')\n",
    "plt.ylabel('Number of People')\n",
    "plt.axis([2, 39, 0, 800])\n",
    "plt.title('How many friends do people share with me ?')\n",
    "plt.show()"
   ]
  },
  {
   "cell_type": "markdown",
   "metadata": {},
   "source": [
    " The distribution decrease exponentially.\n"
   ]
  },
  {
   "cell_type": "markdown",
   "metadata": {},
   "source": [
    "#### Building the graph"
   ]
  },
  {
   "cell_type": "code",
   "execution_count": 15,
   "metadata": {
    "collapsed": false
   },
   "outputs": [],
   "source": [
    "filter_nodes = list(filtered_df['Name'])\n",
    "noms_2 = [ split_name(name) for name in filter_nodes]\n",
    "G=nx.Graph()\n",
    "\n",
    "# Adding nodes\n",
    "G.add_node('Augu Stein')\n",
    "for i in range(len(amis1)):\n",
    "    G.add_node(amis1[i])\n",
    "for i in range(len(filter_nodes)):\n",
    "    G.add_node(filter_nodes[i])\n",
    "\n",
    "# Adding edges\n",
    "for i in amis1:\n",
    "    G.add_edge('Augu Stein',i)\n",
    "for i in range(len(a)):\n",
    "    for name in a[i]:\n",
    "        if(name in G.nodes()):\n",
    "            G.add_edge(b[i],name)"
   ]
  },
  {
   "cell_type": "markdown",
   "metadata": {},
   "source": [
    "How many vertices and edges do we have ?"
   ]
  },
  {
   "cell_type": "code",
   "execution_count": 17,
   "metadata": {
    "collapsed": false
   },
   "outputs": [
    {
     "name": "stdout",
     "output_type": "stream",
     "text": [
      "Number of vertices:  2561 \n",
      " number of edges:  21103\n"
     ]
    }
   ],
   "source": [
    "print('Number of vertices: ',G.number_of_nodes(), '\\n number of edges: ',G.number_of_edges())"
   ]
  },
  {
   "cell_type": "markdown",
   "metadata": {},
   "source": [
    "#### Drawing the graph"
   ]
  },
  {
   "cell_type": "code",
   "execution_count": 18,
   "metadata": {
    "collapsed": true
   },
   "outputs": [],
   "source": [
    "pos_large=nx.fruchterman_reingold_layout(G)"
   ]
  },
  {
   "cell_type": "code",
   "execution_count": 24,
   "metadata": {
    "collapsed": false
   },
   "outputs": [],
   "source": [
    "X_me = [pos_large['Augu Stein'][0]]\n",
    "Y_me = [pos_large['Augu Stein'][1]]\n",
    "Xv_amis=[pos_large[k][0] for k in amis1]\n",
    "Yv_amis=[pos_large[k][1] for k in amis1]\n",
    "Xv_pas_amis=[pos_large[k][0] for k in filter_nodes]\n",
    "Yv_pas_amis=[pos_large[k][1] for k in filter_nodes]\n",
    "Xed=[]\n",
    "Yed=[]\n",
    "for edge in G.edges():\n",
    "    Xed+=[pos_large[edge[0]][0],pos_large[edge[1]][0], None]\n",
    "    Yed+=[pos_large[edge[0]][1],pos_large[edge[1]][1], None] "
   ]
  },
  {
   "cell_type": "code",
   "execution_count": 20,
   "metadata": {
    "collapsed": true
   },
   "outputs": [],
   "source": [
    "trace3=Scattergl(x=Xed,\n",
    "               y=Yed,\n",
    "               mode='lines',\n",
    "               line=Line(color='rgb(210,210,210)', width=0.5),\n",
    "               showlegend=False,\n",
    "               hoverinfo='none'\n",
    "               )\n",
    "\n",
    "trace4=Scattergl(x=Xv_amis,\n",
    "               y=Yv_amis,\n",
    "               mode='markers',\n",
    "               name='Friends',\n",
    "               marker=Marker(symbol='dot',\n",
    "                             size=9, \n",
    "                             color='FFBAD2',\n",
    "                             line=Line(color='rgb(50,50,50)', width=0.5)\n",
    "                             ),\n",
    "               text=noms_1,\n",
    "               hoverinfo='text'\n",
    "               )\n",
    "\n",
    "trace5=Scattergl(x=Xv_pas_amis,\n",
    "               y=Yv_pas_amis,\n",
    "               mode='markers',\n",
    "               name='Friends of friends',\n",
    "               marker=Marker(symbol='dot',\n",
    "                             size=5, \n",
    "                             color= 'rgb(171,217,233)',\n",
    "                                \n",
    "                             line=Line(color='rgb(50,50,50)', width=0.5)\n",
    "                             ),\n",
    "               text=noms_2,\n",
    "               hoverinfo='text'\n",
    "               )\n",
    "\n",
    "trace6=Scattergl(x=X_me,\n",
    "               y=Y_me,\n",
    "               mode='markers',\n",
    "               name='me',\n",
    "               marker=Marker(symbol='dot',\n",
    "                             size=11, \n",
    "                             color= 'rgb(44,117,255)',\n",
    "                             line=Line(color='rgb(50,50,50)', width=0.5)\n",
    "                             ),\n",
    "               text='Au. Stein',\n",
    "               hoverinfo='text'\n",
    "               )"
   ]
  },
  {
   "cell_type": "code",
   "execution_count": 26,
   "metadata": {
    "collapsed": false
   },
   "outputs": [
    {
     "data": {
      "text/html": [
       "<iframe id=\"igraph\" scrolling=\"no\" style=\"border:none;\" seamless=\"seamless\" src=\"https://plot.ly/~pradogusto/6.embed\" height=\"525px\" width=\"100%\"></iframe>"
      ],
      "text/plain": [
       "<plotly.tools.PlotlyDisplay object>"
      ]
     },
     "execution_count": 26,
     "metadata": {},
     "output_type": "execute_result"
    }
   ],
   "source": [
    "data1=Data([trace3, trace4, trace5, trace6])\n",
    "fig1=Figure(data=data1,\n",
    "           layout=Layout(\n",
    "                title='<br> Larger Network',\n",
    "        titlefont=dict(\n",
    "            size=20,\n",
    "            color='rgb(44,117,255)'\n",
    "        ),\n",
    "                xaxis=XAxis(showgrid=False, zeroline=False, showticklabels=False),\n",
    "                yaxis=YAxis(showgrid=False, zeroline=False, showticklabels=False))\n",
    "            )\n",
    "py.iplot(fig1, filename=\"Larger Social net\")"
   ]
  }
 ],
 "metadata": {
  "anaconda-cloud": {},
  "kernelspec": {
   "display_name": "Python [Root]",
   "language": "python",
   "name": "Python [Root]"
  },
  "language_info": {
   "codemirror_mode": {
    "name": "ipython",
    "version": 3
   },
   "file_extension": ".py",
   "mimetype": "text/x-python",
   "name": "python",
   "nbconvert_exporter": "python",
   "pygments_lexer": "ipython3",
   "version": "3.5.2"
  }
 },
 "nbformat": 4,
 "nbformat_minor": 0
}
